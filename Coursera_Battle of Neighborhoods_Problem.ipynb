{
 "cells": [
  {
   "cell_type": "markdown",
   "metadata": {},
   "source": [
    "#### The Battle of Neighborhoods\n",
    "\n",
    "## Real Estate Development in Brooklyn New York"
   ]
  },
  {
   "cell_type": "markdown",
   "metadata": {},
   "source": [
    "**The Problem:**\n",
    "\n",
    "In order to invest in properties with the highest return on investment, a real estate developer is exploring neighborhoods in Brooklyn, NY to predict which neighborhoods are more promising in their future growth. They believe that neighborhoods with best opportunities are the ones that share similar charactersitics in terms of trending venues with the ones that have already had a fast growth.\n",
    "The neighborhoods that have already grown in the past few years are as following:\n",
    "\n",
    "* Dumbo\n",
    "* Downtown Brookly\n",
    "* Fort Greene\n",
    "\n",
    "\n",
    "**The Solution:**\n",
    "\n",
    "To find this similarity, my method would be to cluster all neighborhoods in Brooklyn and find which neighborhoods will be in the same cluster as the three above neighborhoods selected by the real estate team as the models.\n",
    "\n"
   ]
  },
  {
   "cell_type": "code",
   "execution_count": null,
   "metadata": {},
   "outputs": [],
   "source": []
  }
 ],
 "metadata": {
  "kernelspec": {
   "display_name": "Python 3",
   "language": "python",
   "name": "python3"
  },
  "language_info": {
   "codemirror_mode": {
    "name": "ipython",
    "version": 3
   },
   "file_extension": ".py",
   "mimetype": "text/x-python",
   "name": "python",
   "nbconvert_exporter": "python",
   "pygments_lexer": "ipython3",
   "version": "3.7.1"
  }
 },
 "nbformat": 4,
 "nbformat_minor": 2
}
